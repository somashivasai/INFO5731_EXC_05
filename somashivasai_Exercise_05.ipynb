{
 "cells": [
  {
   "cell_type": "markdown",
   "metadata": {
    "id": "6e0MsIBrRnDw"
   },
   "source": [
    "## In class Exercise 5\n",
    "The purpose of this exercise is to practice different ML algorithms for text classification, text clustering, and model evaluation.\n",
    "\n",
    "Hint: You might want to use the code demos from previous lectures, where suitable.\n",
    "\n",
    "**Expectations**:\n",
    "*   Students are expected to complete the exercise during lecture period to meet the active participation criteria of the course.\n",
    "*   Use the provided .*ipynb* document to write your code & respond to the questions. Avoid generating a new file.\n",
    "*   Write complete answers and run all the cells before submission.\n",
    "*   Make sure the submission is \"clean\"; *i.e.*, no unnecessary code cells.\n",
    "*   Once finished, allow shared rights from top right corner (*see Canvas for details*).\n",
    "\n",
    "**Total points**: 40\n",
    "\n",
    "**Deadline**: This in-class exercise is due tonight December 6th, 2023 at 11:59 PM.\n",
    "**Late submissions cannot be considered.**"
   ]
  },
  {
   "cell_type": "markdown",
   "metadata": {
    "id": "M4L6uwjOUmea"
   },
   "source": [
    "### Question 1.\n",
    "\n",
    "The purpose of this question is to practice different machine learning algorithms for text classification, along with performance evaluation. In addition, you are requried to conduct *10 fold cross validation (https://scikit-learn.org/stable/modules/cross_validation.html)* in the training.\n",
    "\n",
    "The dataset (see Canvas) contains two files train data and test data for sentiment analysis in IMDB review, and it has two categories: 1 represents positive and 0 represents negative.\n",
    "\n",
    "You need to split the training data into training and validation data (80% for training and 20% for validation, https://towardsdatascience.com/train-test-split-and-cross-validation-in-python-80b61beca4b6) and perform 10 fold cross validation while training the classifier. The final trained model needs to be evaluated on the test data.\n",
    "\n",
    "Algorithms:\n",
    "1. MultinominalNB (2 points)\n",
    "2. SVM (2 points)\n",
    "3. KNN (2 points)\n",
    "4. Decision tree (2 points)\n",
    "5. Random Forest (2 points)\n",
    "6. XGBoost (2 points)\n",
    "\n",
    "Evaluation measurement:\n",
    "1. Accuracy (2 points)\n",
    "2. Recall (2 points)\n",
    "3. Precison (2 points)\n",
    "4. F-1 score (2 points)"
   ]
  },
  {
   "cell_type": "code",
   "execution_count": 1,
   "metadata": {
    "id": "cWlrrgM0RnDy"
   },
   "outputs": [
    {
     "data": {
      "text/html": [
       "<div>\n",
       "<style scoped>\n",
       "    .dataframe tbody tr th:only-of-type {\n",
       "        vertical-align: middle;\n",
       "    }\n",
       "\n",
       "    .dataframe tbody tr th {\n",
       "        vertical-align: top;\n",
       "    }\n",
       "\n",
       "    .dataframe thead th {\n",
       "        text-align: right;\n",
       "    }\n",
       "</style>\n",
       "<table border=\"1\" class=\"dataframe\">\n",
       "  <thead>\n",
       "    <tr style=\"text-align: right;\">\n",
       "      <th></th>\n",
       "      <th>Label</th>\n",
       "      <th>Text</th>\n",
       "    </tr>\n",
       "  </thead>\n",
       "  <tbody>\n",
       "    <tr>\n",
       "      <th>0</th>\n",
       "      <td>1</td>\n",
       "      <td>a stirring , funny and finally transporting re...</td>\n",
       "    </tr>\n",
       "    <tr>\n",
       "      <th>1</th>\n",
       "      <td>0</td>\n",
       "      <td>apparently reassembled from the cutting-room f...</td>\n",
       "    </tr>\n",
       "    <tr>\n",
       "      <th>2</th>\n",
       "      <td>0</td>\n",
       "      <td>they presume their audience wo n't sit still f...</td>\n",
       "    </tr>\n",
       "    <tr>\n",
       "      <th>3</th>\n",
       "      <td>1</td>\n",
       "      <td>this is a visually stunning rumination on love...</td>\n",
       "    </tr>\n",
       "    <tr>\n",
       "      <th>4</th>\n",
       "      <td>1</td>\n",
       "      <td>jonathan parker 's bartleby should have been t...</td>\n",
       "    </tr>\n",
       "  </tbody>\n",
       "</table>\n",
       "</div>"
      ],
      "text/plain": [
       "   Label                                               Text\n",
       "0      1  a stirring , funny and finally transporting re...\n",
       "1      0  apparently reassembled from the cutting-room f...\n",
       "2      0  they presume their audience wo n't sit still f...\n",
       "3      1  this is a visually stunning rumination on love...\n",
       "4      1  jonathan parker 's bartleby should have been t..."
      ]
     },
     "execution_count": 1,
     "metadata": {},
     "output_type": "execute_result"
    }
   ],
   "source": [
    "# Write your code here\n",
    "\n",
    "import numpy as np\n",
    "import pandas as pd\n",
    "import seaborn as sns\n",
    "import matplotlib.pyplot as plt\n",
    "from nltk.corpus import stopwords\n",
    "import nltk\n",
    "from nltk.corpus import stopwords\n",
    "from nltk.stem import PorterStemmer, WordNetLemmatizer\n",
    "from sklearn.model_selection import train_test_split, cross_val_score, KFold\n",
    "from sklearn.feature_extraction.text import TfidfVectorizer\n",
    "from sklearn.naive_bayes import MultinomialNB\n",
    "from sklearn.svm import SVC\n",
    "from sklearn.neighbors import KNeighborsClassifier\n",
    "from sklearn.tree import DecisionTreeClassifier\n",
    "from sklearn.ensemble import RandomForestClassifier\n",
    "from xgboost import XGBClassifier\n",
    "from sklearn.metrics import accuracy_score, precision_score, recall_score, f1_score\n",
    "from gensim.models import Word2Vec\n",
    "from transformers import BertTokenizer, BertForSequenceClassification\n",
    "from sklearn.model_selection import train_test_split\n",
    "from sklearn.metrics import accuracy_score, precision_score, recall_score, f1_score\n",
    "import torch\n",
    "from torch.utils.data import DataLoader, TensorDataset\n",
    "from tqdm import tqdm\n",
    "# Creating empty lists at first to hold labels and messages\n",
    "labels = []\n",
    "texts = []\n",
    "\n",
    "# Creating empty lists to contain labels and texts and performing initialization on them\n",
    "with open(\"C://Users//somas//Downloads//exercise05_datacollection//exercise09_datacollection//stsa-train.txt\", \"r\") as file:\n",
    "    for line in file:\n",
    "        # Separation of the line into its label and text components\n",
    "        label, text = line.split(' ', 1)\n",
    "        \n",
    "        # Adding the label as well as the text to the appropriate lists.\n",
    "        labels.append(int(label))\n",
    "        texts.append(text.strip())  # Elimination of leading and trailing whitespaces in the expression\n",
    "\n",
    "# Constructing a DataFrame out of the lists\n",
    "df = pd.DataFrame({'Label': labels, 'Text': texts})\n",
    "\n",
    "# viewing head of dataframe\n",
    "df.head()\n"
   ]
  },
  {
   "cell_type": "code",
   "execution_count": 2,
   "metadata": {},
   "outputs": [
    {
     "data": {
      "text/plain": [
       "1    3610\n",
       "0    3310\n",
       "Name: Label, dtype: int64"
      ]
     },
     "execution_count": 2,
     "metadata": {},
     "output_type": "execute_result"
    }
   ],
   "source": [
    "df[\"Label\"].value_counts()"
   ]
  },
  {
   "cell_type": "code",
   "execution_count": 3,
   "metadata": {},
   "outputs": [
    {
     "data": {
      "image/png": "[encoded data removed]",
      "text/plain": [
       "<Figure size 576x432 with 1 Axes>"
      ]
     },
     "metadata": {
      "needs_background": "light"
     },
     "output_type": "display_data"
    }
   ],
   "source": [
    "# Creating a count plot\n",
    "plt.figure(figsize=(8, 6))\n",
    "sns.countplot(x=\"Label\", data=df)\n",
    "\n",
    "# Adding labels and title\n",
    "plt.xlabel(\"Label\")\n",
    "plt.ylabel(\"Count\")\n",
    "plt.title(\"Distribution of Sentiment Labels\")\n",
    "plt.show()\n"
   ]
  },
  {
   "cell_type": "code",
   "execution_count": 4,
   "metadata": {},
   "outputs": [
    {
     "data": {
      "text/plain": [
       "Label    0\n",
       "Text     0\n",
       "dtype: int64"
      ]
     },
     "execution_count": 4,
     "metadata": {},
     "output_type": "execute_result"
    }
   ],
   "source": [
    "df.isnull().sum()"
   ]
  },
  {
   "cell_type": "code",
   "execution_count": 5,
   "metadata": {},
   "outputs": [],
   "source": [
    "import string\n",
    "# Function to preprocess and clean text\n",
    "def text_preprocessing(text):\n",
    "    # Remove punctuation and special characters\n",
    "    text = ''.join([character for character in text if character not in string.punctuation])\n",
    "    \n",
    "    # Remove numbers from text\n",
    "    text = ''.join([character for character in text if not character.isdigit()])\n",
    "    \n",
    "    # Tokenize the text\n",
    "    words = nltk.word_tokenize(text)\n",
    "    \n",
    "    # Remove stopwords from text\n",
    "    words = [w for w in words if w.lower() not in stopwords.words('english')]\n",
    "    \n",
    "    # Lowercase all words\n",
    "    words = [w.lower() for w in words]\n",
    "    \n",
    "    # Stemming\n",
    "    stemmer = PorterStemmer()\n",
    "    words = [stemmer.stem(w) for w in words]\n",
    "    \n",
    "    # Lemmatization\n",
    "    lemmatizer = WordNetLemmatizer()\n",
    "    words = [lemmatizer.lemmatize(w) for w in words]\n",
    "    \n",
    "    # Joining the words back into a cleaned sentence\n",
    "    cleaned_user_text = ' '.join(words)\n",
    "    \n",
    "    return cleaned_user_text\n",
    "\n"
   ]
  },
  {
   "cell_type": "code",
   "execution_count": 9,
   "metadata": {},
   "outputs": [
    {
     "name": "stderr",
     "output_type": "stream",
     "text": [
      "[nltk_data] Downloading package punkt to\n",
      "[nltk_data]     C:\\Users\\somas\\AppData\\Roaming\\nltk_data...\n",
      "[nltk_data]   Package punkt is already up-to-date!\n"
     ]
    },
    {
     "data": {
      "text/plain": [
       "True"
      ]
     },
     "execution_count": 9,
     "metadata": {},
     "output_type": "execute_result"
    }
   ],
   "source": [
    "import nltk\n",
    "nltk.download('punkt')"
   ]
  },
  {
   "cell_type": "code",
   "execution_count": 12,
   "metadata": {},
   "outputs": [
    {
     "name": "stdout",
     "output_type": "stream",
     "text": [
      "C:\\Users\\somas\\Downloads\n"
     ]
    }
   ],
   "source": [
    "import os\n",
    "print(os.getcwd())"
   ]
  },
  {
   "cell_type": "code",
   "execution_count": 14,
   "metadata": {},
   "outputs": [],
   "source": [
    "import os\n",
    "\n",
    "nltk_data_path = \"C://Users//somas//Downloads\"\n",
    "wordnet_path = os.path.join(nltk_data_path, \"corpora/wordnet\")\n",
    "\n",
    "os.makedirs(wordnet_path, exist_ok=True)"
   ]
  },
  {
   "cell_type": "code",
   "execution_count": 16,
   "metadata": {},
   "outputs": [
    {
     "data": {
      "text/html": [
       "<div>\n",
       "<style scoped>\n",
       "    .dataframe tbody tr th:only-of-type {\n",
       "        vertical-align: middle;\n",
       "    }\n",
       "\n",
       "    .dataframe tbody tr th {\n",
       "        vertical-align: top;\n",
       "    }\n",
       "\n",
       "    .dataframe thead th {\n",
       "        text-align: right;\n",
       "    }\n",
       "</style>\n",
       "<table border=\"1\" class=\"dataframe\">\n",
       "  <thead>\n",
       "    <tr style=\"text-align: right;\">\n",
       "      <th></th>\n",
       "      <th>Label</th>\n",
       "      <th>Text</th>\n",
       "    </tr>\n",
       "  </thead>\n",
       "  <tbody>\n",
       "    <tr>\n",
       "      <th>0</th>\n",
       "      <td>1</td>\n",
       "      <td>a stirring , funny and finally transporting re...</td>\n",
       "    </tr>\n",
       "    <tr>\n",
       "      <th>1</th>\n",
       "      <td>0</td>\n",
       "      <td>apparently reassembled from the cutting-room f...</td>\n",
       "    </tr>\n",
       "    <tr>\n",
       "      <th>2</th>\n",
       "      <td>0</td>\n",
       "      <td>they presume their audience wo n't sit still f...</td>\n",
       "    </tr>\n",
       "    <tr>\n",
       "      <th>3</th>\n",
       "      <td>1</td>\n",
       "      <td>this is a visually stunning rumination on love...</td>\n",
       "    </tr>\n",
       "    <tr>\n",
       "      <th>4</th>\n",
       "      <td>1</td>\n",
       "      <td>jonathan parker 's bartleby should have been t...</td>\n",
       "    </tr>\n",
       "  </tbody>\n",
       "</table>\n",
       "</div>"
      ],
      "text/plain": [
       "   Label                                               Text\n",
       "0      1  a stirring , funny and finally transporting re...\n",
       "1      0  apparently reassembled from the cutting-room f...\n",
       "2      0  they presume their audience wo n't sit still f...\n",
       "3      1  this is a visually stunning rumination on love...\n",
       "4      1  jonathan parker 's bartleby should have been t..."
      ]
     },
     "execution_count": 16,
     "metadata": {},
     "output_type": "execute_result"
    }
   ],
   "source": [
    "df1 = df[[\"Label\",\"Text\"]]\n",
    "df1.head()"
   ]
  },
  {
   "cell_type": "code",
   "execution_count": 18,
   "metadata": {},
   "outputs": [
    {
     "data": {
      "text/plain": [
       "['apparently reassembled from the cutting-room floor of any given daytime soap .',\n",
       " \"they presume their audience wo n't sit still for a sociology lesson , however entertainingly presented , so they trot out the conventional science-fiction elements of bug-eyed monsters and futuristic women in skimpy clothes .\",\n",
       " 'this is a visually stunning rumination on love , memory , history and the war between art and commerce .',\n",
       " \"jonathan parker 's bartleby should have been the be-all-end-all of the modern-office anomie films .\",\n",
       " 'campanella gets the tone just right -- funny in the middle of sad in the middle of hopeful .']"
      ]
     },
     "execution_count": 18,
     "metadata": {},
     "output_type": "execute_result"
    }
   ],
   "source": [
    "corpus = df1['Text'].tolist()\n",
    "corpus[1:6]"
   ]
  },
  {
   "cell_type": "code",
   "execution_count": 19,
   "metadata": {},
   "outputs": [
    {
     "data": {
      "text/html": [
       "<style>#sk-container-id-1 {color: black;background-color: white;}#sk-container-id-1 pre{padding: 0;}#sk-container-id-1 div.sk-toggleable {background-color: white;}#sk-container-id-1 label.sk-toggleable__label {cursor: pointer;display: block;width: 100%;margin-bottom: 0;padding: 0.3em;box-sizing: border-box;text-align: center;}#sk-container-id-1 label.sk-toggleable__label-arrow:before {content: \"▸\";float: left;margin-right: 0.25em;color: #696969;}#sk-container-id-1 label.sk-toggleable__label-arrow:hover:before {color: black;}#sk-container-id-1 div.sk-estimator:hover label.sk-toggleable__label-arrow:before {color: black;}#sk-container-id-1 div.sk-toggleable__content {max-height: 0;max-width: 0;overflow: hidden;text-align: left;background-color: #f0f8ff;}#sk-container-id-1 div.sk-toggleable__content pre {margin: 0.2em;color: black;border-radius: 0.25em;background-color: #f0f8ff;}#sk-container-id-1 input.sk-toggleable__control:checked~div.sk-toggleable__content {max-height: 200px;max-width: 100%;overflow: auto;}#sk-container-id-1 input.sk-toggleable__control:checked~label.sk-toggleable__label-arrow:before {content: \"▾\";}#sk-container-id-1 div.sk-estimator input.sk-toggleable__control:checked~label.sk-toggleable__label {background-color: #d4ebff;}#sk-container-id-1 div.sk-label input.sk-toggleable__control:checked~label.sk-toggleable__label {background-color: #d4ebff;}#sk-container-id-1 input.sk-hidden--visually {border: 0;clip: rect(1px 1px 1px 1px);clip: rect(1px, 1px, 1px, 1px);height: 1px;margin: -1px;overflow: hidden;padding: 0;position: absolute;width: 1px;}#sk-container-id-1 div.sk-estimator {font-family: monospace;background-color: #f0f8ff;border: 1px dotted black;border-radius: 0.25em;box-sizing: border-box;margin-bottom: 0.5em;}#sk-container-id-1 div.sk-estimator:hover {background-color: #d4ebff;}#sk-container-id-1 div.sk-parallel-item::after {content: \"\";width: 100%;border-bottom: 1px solid gray;flex-grow: 1;}#sk-container-id-1 div.sk-label:hover label.sk-toggleable__label {background-color: #d4ebff;}#sk-container-id-1 div.sk-serial::before {content: \"\";position: absolute;border-left: 1px solid gray;box-sizing: border-box;top: 0;bottom: 0;left: 50%;z-index: 0;}#sk-container-id-1 div.sk-serial {display: flex;flex-direction: column;align-items: center;background-color: white;padding-right: 0.2em;padding-left: 0.2em;position: relative;}#sk-container-id-1 div.sk-item {position: relative;z-index: 1;}#sk-container-id-1 div.sk-parallel {display: flex;align-items: stretch;justify-content: center;background-color: white;position: relative;}#sk-container-id-1 div.sk-item::before, #sk-container-id-1 div.sk-parallel-item::before {content: \"\";position: absolute;border-left: 1px solid gray;box-sizing: border-box;top: 0;bottom: 0;left: 50%;z-index: -1;}#sk-container-id-1 div.sk-parallel-item {display: flex;flex-direction: column;z-index: 1;position: relative;background-color: white;}#sk-container-id-1 div.sk-parallel-item:first-child::after {align-self: flex-end;width: 50%;}#sk-container-id-1 div.sk-parallel-item:last-child::after {align-self: flex-start;width: 50%;}#sk-container-id-1 div.sk-parallel-item:only-child::after {width: 0;}#sk-container-id-1 div.sk-dashed-wrapped {border: 1px dashed gray;margin: 0 0.4em 0.5em 0.4em;box-sizing: border-box;padding-bottom: 0.4em;background-color: white;}#sk-container-id-1 div.sk-label label {font-family: monospace;font-weight: bold;display: inline-block;line-height: 1.2em;}#sk-container-id-1 div.sk-label-container {text-align: center;}#sk-container-id-1 div.sk-container {/* jupyter's `normalize.less` sets `[hidden] { display: none; }` but bootstrap.min.css set `[hidden] { display: none !important; }` so we also need the `!important` here to be able to override the default hidden behavior on the sphinx rendered scikit-learn.org. See: https://github.com/scikit-learn/scikit-learn/issues/21755 */display: inline-block !important;position: relative;}#sk-container-id-1 div.sk-text-repr-fallback {display: none;}</style><div id=\"sk-container-id-1\" class=\"sk-top-container\"><div class=\"sk-text-repr-fallback\"><pre>TfidfVectorizer()</pre><b>In a Jupyter environment, please rerun this cell to show the HTML representation or trust the notebook. <br />On GitHub, the HTML representation is unable to render, please try loading this page with nbviewer.org.</b></div><div class=\"sk-container\" hidden><div class=\"sk-item\"><div class=\"sk-estimator sk-toggleable\"><input class=\"sk-toggleable__control sk-hidden--visually\" id=\"sk-estimator-id-1\" type=\"checkbox\" checked><label for=\"sk-estimator-id-1\" class=\"sk-toggleable__label sk-toggleable__label-arrow\">TfidfVectorizer</label><div class=\"sk-toggleable__content\"><pre>TfidfVectorizer()</pre></div></div></div></div></div>"
      ],
      "text/plain": [
       "TfidfVectorizer()"
      ]
     },
     "execution_count": 19,
     "metadata": {},
     "output_type": "execute_result"
    }
   ],
   "source": [
    "tfidf_vectorizer = TfidfVectorizer()\n",
    "tfidf_vectorizer"
   ]
  },
  {
   "cell_type": "code",
   "execution_count": 20,
   "metadata": {},
   "outputs": [],
   "source": [
    "# Transforming the text data into numerical features\n",
    "X = tfidf_vectorizer.fit_transform(corpus)\n",
    "\n",
    "# Target  column\n",
    "y = df1['Label']\n",
    "# Splitting the data into training and validation sets\n",
    "X_train, X_valid, y_train, y_valid = train_test_split(X, y, test_size=0.2, random_state=42)\n",
    "# Generating instances of each of the classifiers\n",
    "multinominalNB_classifier = MultinomialNB()\n",
    "svm_classifier = SVC()\n",
    "knn_classifier = KNeighborsClassifier()\n",
    "decision_tree_classifier = DecisionTreeClassifier()\n",
    "random_forest_classifier = RandomForestClassifier()\n",
    "xgboost_classifier = XGBClassifier()"
   ]
  },
  {
   "cell_type": "code",
   "execution_count": 21,
   "metadata": {},
   "outputs": [
    {
     "name": "stdout",
     "output_type": "stream",
     "text": [
      "\n",
      "Training & evaluating MultinomialNB model\n",
      "\n",
      "Training & evaluating SVM model\n",
      "\n",
      "Training & evaluating KNN model\n",
      "\n",
      "Training & evaluating Decision Tree model\n",
      "\n",
      "Training & evaluating Random Forest model\n",
      "\n",
      "Training & evaluating XGBoost model\n"
     ]
    }
   ],
   "source": [
    "# Generating a dictionary of classifiers\n",
    "classifiers = {\n",
    "    \"MultinomialNB\": multinominalNB_classifier,\n",
    "    \"SVM\": svm_classifier,\n",
    "    \"KNN\": knn_classifier,\n",
    "    \"Decision Tree\": decision_tree_classifier,\n",
    "    \"Random Forest\": random_forest_classifier,\n",
    "    \"XGBoost\": xgboost_classifier,\n",
    "}\n",
    "import numpy as np\n",
    "# Generating a dictionary to store results\n",
    "results_dictionary = {}\n",
    "\n",
    "# Setting the CV\n",
    "kf = KFold(n_splits=10, shuffle=True, random_state=42)\n",
    "\n",
    "# by iteratively cycling over all of the classifiers\n",
    "for classifier_name, classifier in classifiers.items():\n",
    "    print(f\"\\nTraining & evaluating {classifier_name} model\")\n",
    "    \n",
    "    # CV the classifier\n",
    "    scores = cross_val_score(classifier, X_train, y_train, cv=kf, scoring='accuracy')\n",
    "    average_accuracy = np.mean(scores)\n",
    "    \n",
    "    # Fitting the classifier on the X_train, y_train\n",
    "    classifier.fit(X_train, y_train)\n",
    "    \n",
    "    # Making predictions on the validation data(X_valid)\n",
    "    y_pred = classifier.predict(X_valid)\n",
    "    \n",
    "    # Calculating evaluation metrics on the validation data\n",
    "    accuracy = accuracy_score(y_valid, y_pred)\n",
    "    precision = precision_score(y_valid, y_pred)\n",
    "    recall = recall_score(y_valid, y_pred)\n",
    "    f1 = f1_score(y_valid, y_pred)\n",
    "    \n",
    "    # Storing the findings in the dictionary for future reference\n",
    "    results_dictionary[classifier_name] = {\n",
    "        'Average Accuracy (CV)': average_accuracy,\n",
    "        'Accuracy (Validation data)': accuracy,\n",
    "        'Precision': precision,\n",
    "        'Recall': recall,\n",
    "        'F1 Score': f1,\n",
    "    }"
   ]
  },
  {
   "cell_type": "code",
   "execution_count": 22,
   "metadata": {},
   "outputs": [
    {
     "data": {
      "text/plain": [
       "{'MultinomialNB': {'Average Accuracy (CV)': 0.7792608091081792,\n",
       "  'Accuracy (Validation data)': 0.7969653179190751,\n",
       "  'Precision': 0.7571428571428571,\n",
       "  'Recall': 0.8920056100981767,\n",
       "  'F1 Score': 0.8190598840952994},\n",
       " 'SVM': {'Average Accuracy (CV)': 0.7761847095919207,\n",
       "  'Accuracy (Validation data)': 0.7976878612716763,\n",
       "  'Precision': 0.7730138713745272,\n",
       "  'Recall': 0.8597475455820477,\n",
       "  'F1 Score': 0.8140770252324037},\n",
       " 'KNN': {'Average Accuracy (CV)': 0.7133303085891853,\n",
       "  'Accuracy (Validation data)': 0.7290462427745664,\n",
       "  'Precision': 0.7150127226463104,\n",
       "  'Recall': 0.788218793828892,\n",
       "  'F1 Score': 0.7498332221480987},\n",
       " 'Decision Tree': {'Average Accuracy (CV)': 0.6051184546386301,\n",
       "  'Accuracy (Validation data)': 0.6192196531791907,\n",
       "  'Precision': 0.6260162601626016,\n",
       "  'Recall': 0.6479663394109397,\n",
       "  'F1 Score': 0.6368022053756031},\n",
       " 'Random Forest': {'Average Accuracy (CV)': 0.7059204470528329,\n",
       "  'Accuracy (Validation data)': 0.7341040462427746,\n",
       "  'Precision': 0.7095990279465371,\n",
       "  'Recall': 0.8190743338008415,\n",
       "  'F1 Score': 0.7604166666666666},\n",
       " 'XGBoost': {'Average Accuracy (CV)': 0.6912903689099823,\n",
       "  'Accuracy (Validation data)': 0.7138728323699421,\n",
       "  'Precision': 0.6866902237926973,\n",
       "  'Recall': 0.8176718092566619,\n",
       "  'F1 Score': 0.7464788732394366}}"
      ]
     },
     "execution_count": 22,
     "metadata": {},
     "output_type": "execute_result"
    }
   ],
   "source": [
    "results_dictionary"
   ]
  },
  {
   "cell_type": "code",
   "execution_count": 23,
   "metadata": {},
   "outputs": [
    {
     "name": "stdout",
     "output_type": "stream",
     "text": [
      "Evaluation measurement for the MultinomialNB:\n",
      "Average Accuracy (CV): 0.7792608091081792\n",
      "Accuracy (Validation data): 0.7969653179190751\n",
      "Precision: 0.7571428571428571\n",
      "Recall: 0.8920056100981767\n",
      "F1 Score: 0.8190598840952994\n",
      "\n",
      "\n",
      "Evaluation measurement for the SVM:\n",
      "Average Accuracy (CV): 0.7761847095919207\n",
      "Accuracy (Validation data): 0.7976878612716763\n",
      "Precision: 0.7730138713745272\n",
      "Recall: 0.8597475455820477\n",
      "F1 Score: 0.8140770252324037\n",
      "\n",
      "\n",
      "Evaluation measurement for the KNN:\n",
      "Average Accuracy (CV): 0.7133303085891853\n",
      "Accuracy (Validation data): 0.7290462427745664\n",
      "Precision: 0.7150127226463104\n",
      "Recall: 0.788218793828892\n",
      "F1 Score: 0.7498332221480987\n",
      "\n",
      "\n",
      "Evaluation measurement for the Decision Tree:\n",
      "Average Accuracy (CV): 0.6051184546386301\n",
      "Accuracy (Validation data): 0.6192196531791907\n",
      "Precision: 0.6260162601626016\n",
      "Recall: 0.6479663394109397\n",
      "F1 Score: 0.6368022053756031\n",
      "\n",
      "\n",
      "Evaluation measurement for the Random Forest:\n",
      "Average Accuracy (CV): 0.7059204470528329\n",
      "Accuracy (Validation data): 0.7341040462427746\n",
      "Precision: 0.7095990279465371\n",
      "Recall: 0.8190743338008415\n",
      "F1 Score: 0.7604166666666666\n",
      "\n",
      "\n",
      "Evaluation measurement for the XGBoost:\n",
      "Average Accuracy (CV): 0.6912903689099823\n",
      "Accuracy (Validation data): 0.7138728323699421\n",
      "Precision: 0.6866902237926973\n",
      "Recall: 0.8176718092566619\n",
      "F1 Score: 0.7464788732394366\n",
      "\n",
      "\n"
     ]
    }
   ],
   "source": [
    "# output\n",
    "for classifier_name, metrics in results_dictionary.items():\n",
    "    print(f\"Evaluation measurement for the {classifier_name}:\")\n",
    "    for metric, value in metrics.items():\n",
    "        print(f\"{metric}: {value}\")\n",
    "    print(\"\\n\")"
   ]
  },
  {
   "cell_type": "markdown",
   "metadata": {},
   "source": [
    "# Predictions on test data"
   ]
  },
  {
   "cell_type": "code",
   "execution_count": 24,
   "metadata": {},
   "outputs": [
    {
     "data": {
      "text/html": [
       "<div>\n",
       "<style scoped>\n",
       "    .dataframe tbody tr th:only-of-type {\n",
       "        vertical-align: middle;\n",
       "    }\n",
       "\n",
       "    .dataframe tbody tr th {\n",
       "        vertical-align: top;\n",
       "    }\n",
       "\n",
       "    .dataframe thead th {\n",
       "        text-align: right;\n",
       "    }\n",
       "</style>\n",
       "<table border=\"1\" class=\"dataframe\">\n",
       "  <thead>\n",
       "    <tr style=\"text-align: right;\">\n",
       "      <th></th>\n",
       "      <th>Label</th>\n",
       "      <th>Text</th>\n",
       "    </tr>\n",
       "  </thead>\n",
       "  <tbody>\n",
       "    <tr>\n",
       "      <th>0</th>\n",
       "      <td>1</td>\n",
       "      <td>a stirring , funny and finally transporting re...</td>\n",
       "    </tr>\n",
       "    <tr>\n",
       "      <th>1</th>\n",
       "      <td>0</td>\n",
       "      <td>apparently reassembled from the cutting-room f...</td>\n",
       "    </tr>\n",
       "    <tr>\n",
       "      <th>2</th>\n",
       "      <td>0</td>\n",
       "      <td>they presume their audience wo n't sit still f...</td>\n",
       "    </tr>\n",
       "    <tr>\n",
       "      <th>3</th>\n",
       "      <td>1</td>\n",
       "      <td>this is a visually stunning rumination on love...</td>\n",
       "    </tr>\n",
       "    <tr>\n",
       "      <th>4</th>\n",
       "      <td>1</td>\n",
       "      <td>jonathan parker 's bartleby should have been t...</td>\n",
       "    </tr>\n",
       "  </tbody>\n",
       "</table>\n",
       "</div>"
      ],
      "text/plain": [
       "   Label                                               Text\n",
       "0      1  a stirring , funny and finally transporting re...\n",
       "1      0  apparently reassembled from the cutting-room f...\n",
       "2      0  they presume their audience wo n't sit still f...\n",
       "3      1  this is a visually stunning rumination on love...\n",
       "4      1  jonathan parker 's bartleby should have been t..."
      ]
     },
     "execution_count": 24,
     "metadata": {},
     "output_type": "execute_result"
    }
   ],
   "source": [
    "#Test Data\n",
    "# Creating empty lists to contain labels and texts and performing initialization on them\n",
    "with open(\"C://Users//somas//Downloads//exercise05_datacollection//exercise09_datacollection//stsa-test.txt\", \"r\") as file:\n",
    "    for line in file:\n",
    "        # Separation of the line into its label and text components\n",
    "        label, text = line.split(' ', 1)\n",
    "        \n",
    "        # Adding the label as well as the text to the appropriate lists.\n",
    "        labels.append(int(label))\n",
    "        texts.append(text.strip())  # Elimination of leading and trailing whitespaces in the expression\n",
    "\n",
    "# Constructing a DataFrame out of the lists\n",
    "test_df = pd.DataFrame({'Label': labels, 'Text': texts})\n",
    "\n",
    "# viewing head of dataframe\n",
    "test_df.head()"
   ]
  },
  {
   "cell_type": "code",
   "execution_count": 27,
   "metadata": {},
   "outputs": [
    {
     "data": {
      "text/plain": [
       "['apparently reassembled from the cutting-room floor of any given daytime soap .',\n",
       " \"they presume their audience wo n't sit still for a sociology lesson , however entertainingly presented , so they trot out the conventional science-fiction elements of bug-eyed monsters and futuristic women in skimpy clothes .\",\n",
       " 'this is a visually stunning rumination on love , memory , history and the war between art and commerce .',\n",
       " \"jonathan parker 's bartleby should have been the be-all-end-all of the modern-office anomie films .\",\n",
       " 'campanella gets the tone just right -- funny in the middle of sad in the middle of hopeful .']"
      ]
     },
     "execution_count": 27,
     "metadata": {},
     "output_type": "execute_result"
    }
   ],
   "source": [
    "corpus = test_df['Text'].tolist()\n",
    "corpus[1:6]"
   ]
  },
  {
   "cell_type": "code",
   "execution_count": 28,
   "metadata": {},
   "outputs": [
    {
     "name": "stdout",
     "output_type": "stream",
     "text": [
      "\n",
      "Training & evaluating MultinomialNB model\n",
      "\n",
      "Training & evaluating SVM model\n",
      "\n",
      "Training & evaluating KNN model\n",
      "\n",
      "Training & evaluating Decision Tree model\n",
      "\n",
      "Training & evaluating Random Forest model\n",
      "\n",
      "Training & evaluating XGBoost model\n"
     ]
    }
   ],
   "source": [
    "# Generating a dictionary to store results\n",
    "results_dictionary = {}\n",
    "\n",
    "# Setting the CV\n",
    "kf = KFold(n_splits=10, shuffle=True, random_state=42)\n",
    "\n",
    "# by iteratively cycling over all of the classifiers\n",
    "for classifier_name, classifier in classifiers.items():\n",
    "    print(f\"\\nTraining & evaluating {classifier_name} model\")\n",
    "    \n",
    "    # CV the classifier\n",
    "    scores = cross_val_score(classifier, X_train, y_train, cv=kf, scoring='accuracy')\n",
    "    average_accuracy = np.mean(scores)\n",
    "    \n",
    "    # Fitting the classifier on the X_train, y_train\n",
    "    classifier.fit(X_train, y_train)\n",
    "    \n",
    "    # Making predictions on the validation data(X_valid)\n",
    "    y_pred = classifier.predict(X_valid)\n",
    "    \n",
    "    # Calculating evaluation metrics on the validation data\n",
    "    accuracy = accuracy_score(y_valid, y_pred)\n",
    "    precision = precision_score(y_valid, y_pred)\n",
    "    recall = recall_score(y_valid, y_pred)\n",
    "    f1 = f1_score(y_valid, y_pred)\n",
    "    \n",
    "    # Storing the findings in the dictionary for future reference\n",
    "    results_dictionary[classifier_name] = {\n",
    "        'Average Accuracy (CV)': average_accuracy,\n",
    "        'Accuracy (Validation data)': accuracy,\n",
    "        'Precision': precision,\n",
    "        'Recall': recall,\n",
    "        'F1 Score': f1,\n",
    "    }"
   ]
  },
  {
   "cell_type": "code",
   "execution_count": 29,
   "metadata": {},
   "outputs": [
    {
     "name": "stdout",
     "output_type": "stream",
     "text": [
      "Evaluation measurement for the MultinomialNB:\n",
      "Average Accuracy (CV): 0.7792608091081792\n",
      "Accuracy (Validation data): 0.7969653179190751\n",
      "Precision: 0.7571428571428571\n",
      "Recall: 0.8920056100981767\n",
      "F1 Score: 0.8190598840952994\n",
      "\n",
      "\n",
      "Evaluation measurement for the SVM:\n",
      "Average Accuracy (CV): 0.7761847095919207\n",
      "Accuracy (Validation data): 0.7976878612716763\n",
      "Precision: 0.7730138713745272\n",
      "Recall: 0.8597475455820477\n",
      "F1 Score: 0.8140770252324037\n",
      "\n",
      "\n",
      "Evaluation measurement for the KNN:\n",
      "Average Accuracy (CV): 0.7133303085891853\n",
      "Accuracy (Validation data): 0.7290462427745664\n",
      "Precision: 0.7150127226463104\n",
      "Recall: 0.788218793828892\n",
      "F1 Score: 0.7498332221480987\n",
      "\n",
      "\n",
      "Evaluation measurement for the Decision Tree:\n",
      "Average Accuracy (CV): 0.6052976544088365\n",
      "Accuracy (Validation data): 0.6192196531791907\n",
      "Precision: 0.6246648793565683\n",
      "Recall: 0.6535764375876578\n",
      "F1 Score: 0.6387936943111721\n",
      "\n",
      "\n",
      "Evaluation measurement for the Random Forest:\n",
      "Average Accuracy (CV): 0.7075414052656661\n",
      "Accuracy (Validation data): 0.7232658959537572\n",
      "Precision: 0.7022058823529411\n",
      "Recall: 0.8036465638148668\n",
      "F1 Score: 0.749509483322433\n",
      "\n",
      "\n",
      "Evaluation measurement for the XGBoost:\n",
      "Average Accuracy (CV): 0.6912903689099823\n",
      "Accuracy (Validation data): 0.7138728323699421\n",
      "Precision: 0.6866902237926973\n",
      "Recall: 0.8176718092566619\n",
      "F1 Score: 0.7464788732394366\n",
      "\n",
      "\n"
     ]
    }
   ],
   "source": [
    "# output\n",
    "for classifier_name, metrics in results_dictionary.items():\n",
    "    print(f\"Evaluation measurement for the {classifier_name}:\")\n",
    "    for metric, value in metrics.items():\n",
    "        print(f\"{metric}: {value}\")\n",
    "    print(\"\\n\")\n"
   ]
  },
  {
   "cell_type": "code",
   "execution_count": null,
   "metadata": {},
   "outputs": [],
   "source": []
  },
  {
   "cell_type": "code",
   "execution_count": null,
   "metadata": {},
   "outputs": [],
   "source": []
  },
  {
   "cell_type": "code",
   "execution_count": null,
   "metadata": {},
   "outputs": [],
   "source": []
  },
  {
   "cell_type": "markdown",
   "metadata": {
    "id": "MOXyLVH4RnDz"
   },
   "source": [
    "### Question 2.\n",
    "\n",
    "The purpose of the question is to practice different machine learning algorithms for text clustering.\n",
    "\n",
    "Please downlad the dataset by using the following link: https://www.kaggle.com/PromptCloudHQ/amazon-reviews-unlocked-mobile-phones\n",
    "\n",
    "Apply the listed clustering methods to the dataset:\n",
    "1. K-means (4 points)\n",
    "2. DBSCAN (4 points)\n",
    "3. Hierarchical clustering (4 points)\n",
    "4. Word2Vec (4 points)\n",
    "5. BERT (4 points)"
   ]
  },
  {
   "cell_type": "code",
   "execution_count": 49,
   "metadata": {
    "id": "ZycvAq9fRnD0"
   },
   "outputs": [
    {
     "data": {
      "text/html": [
       "<div>\n",
       "<style scoped>\n",
       "    .dataframe tbody tr th:only-of-type {\n",
       "        vertical-align: middle;\n",
       "    }\n",
       "\n",
       "    .dataframe tbody tr th {\n",
       "        vertical-align: top;\n",
       "    }\n",
       "\n",
       "    .dataframe thead th {\n",
       "        text-align: right;\n",
       "    }\n",
       "</style>\n",
       "<table border=\"1\" class=\"dataframe\">\n",
       "  <thead>\n",
       "    <tr style=\"text-align: right;\">\n",
       "      <th></th>\n",
       "      <th>Product Name</th>\n",
       "      <th>Brand Name</th>\n",
       "      <th>Price</th>\n",
       "      <th>Rating</th>\n",
       "      <th>Reviews</th>\n",
       "      <th>Review Votes</th>\n",
       "    </tr>\n",
       "  </thead>\n",
       "  <tbody>\n",
       "    <tr>\n",
       "      <th>0</th>\n",
       "      <td>\"CLEAR CLEAN ESN\" Sprint EPIC 4G Galaxy SPH-D7...</td>\n",
       "      <td>Samsung</td>\n",
       "      <td>199.99</td>\n",
       "      <td>5</td>\n",
       "      <td>I feel so LUCKY to have found this used (phone...</td>\n",
       "      <td>1.0</td>\n",
       "    </tr>\n",
       "    <tr>\n",
       "      <th>1</th>\n",
       "      <td>\"CLEAR CLEAN ESN\" Sprint EPIC 4G Galaxy SPH-D7...</td>\n",
       "      <td>Samsung</td>\n",
       "      <td>199.99</td>\n",
       "      <td>4</td>\n",
       "      <td>nice phone, nice up grade from my pantach revu...</td>\n",
       "      <td>0.0</td>\n",
       "    </tr>\n",
       "    <tr>\n",
       "      <th>2</th>\n",
       "      <td>\"CLEAR CLEAN ESN\" Sprint EPIC 4G Galaxy SPH-D7...</td>\n",
       "      <td>Samsung</td>\n",
       "      <td>199.99</td>\n",
       "      <td>5</td>\n",
       "      <td>Very pleased</td>\n",
       "      <td>0.0</td>\n",
       "    </tr>\n",
       "    <tr>\n",
       "      <th>3</th>\n",
       "      <td>\"CLEAR CLEAN ESN\" Sprint EPIC 4G Galaxy SPH-D7...</td>\n",
       "      <td>Samsung</td>\n",
       "      <td>199.99</td>\n",
       "      <td>4</td>\n",
       "      <td>It works good but it goes slow sometimes but i...</td>\n",
       "      <td>0.0</td>\n",
       "    </tr>\n",
       "    <tr>\n",
       "      <th>4</th>\n",
       "      <td>\"CLEAR CLEAN ESN\" Sprint EPIC 4G Galaxy SPH-D7...</td>\n",
       "      <td>Samsung</td>\n",
       "      <td>199.99</td>\n",
       "      <td>4</td>\n",
       "      <td>Great phone to replace my lost phone. The only...</td>\n",
       "      <td>0.0</td>\n",
       "    </tr>\n",
       "  </tbody>\n",
       "</table>\n",
       "</div>"
      ],
      "text/plain": [
       "                                        Product Name Brand Name   Price  \\\n",
       "0  \"CLEAR CLEAN ESN\" Sprint EPIC 4G Galaxy SPH-D7...    Samsung  199.99   \n",
       "1  \"CLEAR CLEAN ESN\" Sprint EPIC 4G Galaxy SPH-D7...    Samsung  199.99   \n",
       "2  \"CLEAR CLEAN ESN\" Sprint EPIC 4G Galaxy SPH-D7...    Samsung  199.99   \n",
       "3  \"CLEAR CLEAN ESN\" Sprint EPIC 4G Galaxy SPH-D7...    Samsung  199.99   \n",
       "4  \"CLEAR CLEAN ESN\" Sprint EPIC 4G Galaxy SPH-D7...    Samsung  199.99   \n",
       "\n",
       "   Rating                                            Reviews  Review Votes  \n",
       "0       5  I feel so LUCKY to have found this used (phone...           1.0  \n",
       "1       4  nice phone, nice up grade from my pantach revu...           0.0  \n",
       "2       5                                       Very pleased           0.0  \n",
       "3       4  It works good but it goes slow sometimes but i...           0.0  \n",
       "4       4  Great phone to replace my lost phone. The only...           0.0  "
      ]
     },
     "execution_count": 49,
     "metadata": {},
     "output_type": "execute_result"
    }
   ],
   "source": [
    "#Write your code here.\n",
    "\n",
    "\n",
    "#Write your code here.\n",
    "from sklearn.cluster import KMeans, DBSCAN, AgglomerativeClustering\n",
    "from sklearn.preprocessing import StandardScaler\n",
    "import pandas as pd\n",
    "df2 = pd.read_csv(r\"C:\\Users\\somas\\Downloads\\Amazon_Unlocked_Mobile\\Amazon_Unlocked_Mobile.csv\")\n",
    "df2.head()\n"
   ]
  },
  {
   "cell_type": "markdown",
   "metadata": {
    "id": "uR1Tzjs0RnD1"
   },
   "source": [
    "In one paragraph, please compare the results of K-means, DBSCAN, Hierarchical clustering, Word2Vec, and BERT."
   ]
  },
  {
   "cell_type": "code",
   "execution_count": 51,
   "metadata": {},
   "outputs": [
    {
     "data": {
      "text/plain": [
       "(413840, 6)"
      ]
     },
     "execution_count": 51,
     "metadata": {},
     "output_type": "execute_result"
    }
   ],
   "source": [
    "df2.shape"
   ]
  },
  {
   "cell_type": "code",
   "execution_count": 50,
   "metadata": {
    "id": "5DA6kXTmRnD1"
   },
   "outputs": [
    {
     "data": {
      "text/plain": [
       "Product Name        0\n",
       "Brand Name      65171\n",
       "Price            5933\n",
       "Rating              0\n",
       "Reviews            62\n",
       "Review Votes    12296\n",
       "dtype: int64"
      ]
     },
     "execution_count": 50,
     "metadata": {},
     "output_type": "execute_result"
    }
   ],
   "source": [
    "#You can write you answer here. (No code needed)\n",
    "\n",
    "df2.isnull().sum()"
   ]
  },
  {
   "cell_type": "code",
   "execution_count": 55,
   "metadata": {},
   "outputs": [],
   "source": [
    "df2 = df2.dropna(subset=['Reviews','Review Votes'])"
   ]
  },
  {
   "cell_type": "code",
   "execution_count": 57,
   "metadata": {},
   "outputs": [],
   "source": [
    "mode_value = df2['Brand Name'].mode()[0]\n",
    "df2['Brand Name'] = df2['Brand Name'].fillna(mode_value)"
   ]
  },
  {
   "cell_type": "code",
   "execution_count": 58,
   "metadata": {},
   "outputs": [],
   "source": [
    "mean_=df2['Price'].mean()\n",
    "df2['Price']=df2['Price'].fillna(mean_)"
   ]
  },
  {
   "cell_type": "code",
   "execution_count": 59,
   "metadata": {},
   "outputs": [
    {
     "data": {
      "text/plain": [
       "Product Name    0\n",
       "Brand Name      0\n",
       "Price           0\n",
       "Rating          0\n",
       "Reviews         0\n",
       "Review Votes    0\n",
       "dtype: int64"
      ]
     },
     "execution_count": 59,
     "metadata": {},
     "output_type": "execute_result"
    }
   ],
   "source": [
    "df2.isnull().sum()"
   ]
  },
  {
   "cell_type": "code",
   "execution_count": 60,
   "metadata": {},
   "outputs": [
    {
     "data": {
      "text/plain": [
       "(401482,)"
      ]
     },
     "execution_count": 60,
     "metadata": {},
     "output_type": "execute_result"
    }
   ],
   "source": [
    "df2[\"Reviews\"].shape"
   ]
  },
  {
   "cell_type": "code",
   "execution_count": 70,
   "metadata": {},
   "outputs": [],
   "source": [
    "df2 = df2.iloc[0:10000, :]"
   ]
  },
  {
   "cell_type": "code",
   "execution_count": 71,
   "metadata": {},
   "outputs": [],
   "source": [
    "# Function to preprocess and clean review\n",
    "def review_preprocessing(review):\n",
    "    # Remove punctuation and special characters\n",
    "    review = ''.join([character for character in review if character not in string.punctuation])\n",
    "    \n",
    "    # Remove numbers\n",
    "    review = ''.join([character for character in review if not character.isdigit()])\n",
    "    \n",
    "    # Tokenize the review\n",
    "    words = nltk.word_tokenize(review)\n",
    "    \n",
    "    # Remove stopwords\n",
    "    words = [w for w in words if w.lower() not in stopwords.words('english')]\n",
    "    \n",
    "    # Lowercase all words\n",
    "    words = [w.lower() for w in words]\n",
    "    \n",
    "    # Stemming\n",
    "    stemmer = PorterStemmer()\n",
    "    words = [stemmer.stem(w) for w in words]\n",
    "    \n",
    "    # Lemmatization\n",
    "    lemmatizer = WordNetLemmatizer()\n",
    "    words = [lemmatizer.lemmatize(w) for w in words]\n",
    "    \n",
    "    # Join the words back into a cleaned sentence\n",
    "    cleaned_user_reviews = ' '.join(words)\n",
    "    \n",
    "    return cleaned_user_reviews\n"
   ]
  },
  {
   "cell_type": "code",
   "execution_count": 72,
   "metadata": {},
   "outputs": [],
   "source": [
    "# Vectorize the text using TfidfVectorizer\n",
    "vectorizing = TfidfVectorizer(stop_words='english', max_features=5000)\n",
    "rev_vector = vectorizing.fit_transform(df2['Reviews'])"
   ]
  },
  {
   "cell_type": "code",
   "execution_count": 74,
   "metadata": {},
   "outputs": [
    {
     "name": "stderr",
     "output_type": "stream",
     "text": [
      "C:\\Users\\somas\\anaconda3\\lib\\site-packages\\sklearn\\cluster\\_kmeans.py:870: FutureWarning: The default value of `n_init` will change from 10 to 'auto' in 1.4. Set the value of `n_init` explicitly to suppress the warning\n",
      "  warnings.warn(\n",
      "<ipython-input-74-24481b8c8f6c>:5: SettingWithCopyWarning: \n",
      "A value is trying to be set on a copy of a slice from a DataFrame.\n",
      "Try using .loc[row_indexer,col_indexer] = value instead\n",
      "\n",
      "See the caveats in the documentation: https://pandas.pydata.org/pandas-docs/stable/user_guide/indexing.html#returning-a-view-versus-a-copy\n",
      "  df2['KMeans_Clusters'] = k_means.fit_predict(scaled_rev)\n"
     ]
    },
    {
     "data": {
      "text/html": [
       "<div>\n",
       "<style scoped>\n",
       "    .dataframe tbody tr th:only-of-type {\n",
       "        vertical-align: middle;\n",
       "    }\n",
       "\n",
       "    .dataframe tbody tr th {\n",
       "        vertical-align: top;\n",
       "    }\n",
       "\n",
       "    .dataframe thead th {\n",
       "        text-align: right;\n",
       "    }\n",
       "</style>\n",
       "<table border=\"1\" class=\"dataframe\">\n",
       "  <thead>\n",
       "    <tr style=\"text-align: right;\">\n",
       "      <th></th>\n",
       "      <th>Product Name</th>\n",
       "      <th>Brand Name</th>\n",
       "      <th>Price</th>\n",
       "      <th>Rating</th>\n",
       "      <th>Reviews</th>\n",
       "      <th>Review Votes</th>\n",
       "      <th>KMeans_Clusters</th>\n",
       "    </tr>\n",
       "  </thead>\n",
       "  <tbody>\n",
       "    <tr>\n",
       "      <th>0</th>\n",
       "      <td>\"CLEAR CLEAN ESN\" Sprint EPIC 4G Galaxy SPH-D7...</td>\n",
       "      <td>Samsung</td>\n",
       "      <td>199.99</td>\n",
       "      <td>5</td>\n",
       "      <td>I feel so LUCKY to have found this used (phone...</td>\n",
       "      <td>1.0</td>\n",
       "      <td>1</td>\n",
       "    </tr>\n",
       "    <tr>\n",
       "      <th>1</th>\n",
       "      <td>\"CLEAR CLEAN ESN\" Sprint EPIC 4G Galaxy SPH-D7...</td>\n",
       "      <td>Samsung</td>\n",
       "      <td>199.99</td>\n",
       "      <td>4</td>\n",
       "      <td>nice phone, nice up grade from my pantach revu...</td>\n",
       "      <td>0.0</td>\n",
       "      <td>1</td>\n",
       "    </tr>\n",
       "    <tr>\n",
       "      <th>2</th>\n",
       "      <td>\"CLEAR CLEAN ESN\" Sprint EPIC 4G Galaxy SPH-D7...</td>\n",
       "      <td>Samsung</td>\n",
       "      <td>199.99</td>\n",
       "      <td>5</td>\n",
       "      <td>Very pleased</td>\n",
       "      <td>0.0</td>\n",
       "      <td>1</td>\n",
       "    </tr>\n",
       "    <tr>\n",
       "      <th>3</th>\n",
       "      <td>\"CLEAR CLEAN ESN\" Sprint EPIC 4G Galaxy SPH-D7...</td>\n",
       "      <td>Samsung</td>\n",
       "      <td>199.99</td>\n",
       "      <td>4</td>\n",
       "      <td>It works good but it goes slow sometimes but i...</td>\n",
       "      <td>0.0</td>\n",
       "      <td>1</td>\n",
       "    </tr>\n",
       "    <tr>\n",
       "      <th>4</th>\n",
       "      <td>\"CLEAR CLEAN ESN\" Sprint EPIC 4G Galaxy SPH-D7...</td>\n",
       "      <td>Samsung</td>\n",
       "      <td>199.99</td>\n",
       "      <td>4</td>\n",
       "      <td>Great phone to replace my lost phone. The only...</td>\n",
       "      <td>0.0</td>\n",
       "      <td>1</td>\n",
       "    </tr>\n",
       "    <tr>\n",
       "      <th>...</th>\n",
       "      <td>...</td>\n",
       "      <td>...</td>\n",
       "      <td>...</td>\n",
       "      <td>...</td>\n",
       "      <td>...</td>\n",
       "      <td>...</td>\n",
       "      <td>...</td>\n",
       "    </tr>\n",
       "    <tr>\n",
       "      <th>10331</th>\n",
       "      <td>Apple iPhone 4 A1332 16GB White (GSM Unlocked)</td>\n",
       "      <td>Samsung</td>\n",
       "      <td>188.45</td>\n",
       "      <td>5</td>\n",
       "      <td>Good product</td>\n",
       "      <td>0.0</td>\n",
       "      <td>1</td>\n",
       "    </tr>\n",
       "    <tr>\n",
       "      <th>10332</th>\n",
       "      <td>Apple iPhone 4 A1332 16GB White (GSM Unlocked)</td>\n",
       "      <td>Samsung</td>\n",
       "      <td>188.45</td>\n",
       "      <td>5</td>\n",
       "      <td>The cellphone was incorrectly unlocked and i`v...</td>\n",
       "      <td>0.0</td>\n",
       "      <td>1</td>\n",
       "    </tr>\n",
       "    <tr>\n",
       "      <th>10333</th>\n",
       "      <td>Apple iPhone 4 A1332 32GB Black (GSM Unlocked)</td>\n",
       "      <td>Apple</td>\n",
       "      <td>75.00</td>\n",
       "      <td>5</td>\n",
       "      <td>It was what I was looking for in a Phone thank...</td>\n",
       "      <td>0.0</td>\n",
       "      <td>1</td>\n",
       "    </tr>\n",
       "    <tr>\n",
       "      <th>10334</th>\n",
       "      <td>Apple iPhone 4 A1332 32GB Black (GSM Unlocked)</td>\n",
       "      <td>Apple</td>\n",
       "      <td>75.00</td>\n",
       "      <td>5</td>\n",
       "      <td>Phone was in near perfect shape and it came wi...</td>\n",
       "      <td>0.0</td>\n",
       "      <td>1</td>\n",
       "    </tr>\n",
       "    <tr>\n",
       "      <th>10335</th>\n",
       "      <td>Apple iPhone 4 A1332 32GB Black (GSM Unlocked)</td>\n",
       "      <td>Apple</td>\n",
       "      <td>75.00</td>\n",
       "      <td>5</td>\n",
       "      <td>they arived in time in APO adress-Afghanistan ...</td>\n",
       "      <td>0.0</td>\n",
       "      <td>1</td>\n",
       "    </tr>\n",
       "  </tbody>\n",
       "</table>\n",
       "<p>10000 rows × 7 columns</p>\n",
       "</div>"
      ],
      "text/plain": [
       "                                            Product Name Brand Name   Price  \\\n",
       "0      \"CLEAR CLEAN ESN\" Sprint EPIC 4G Galaxy SPH-D7...    Samsung  199.99   \n",
       "1      \"CLEAR CLEAN ESN\" Sprint EPIC 4G Galaxy SPH-D7...    Samsung  199.99   \n",
       "2      \"CLEAR CLEAN ESN\" Sprint EPIC 4G Galaxy SPH-D7...    Samsung  199.99   \n",
       "3      \"CLEAR CLEAN ESN\" Sprint EPIC 4G Galaxy SPH-D7...    Samsung  199.99   \n",
       "4      \"CLEAR CLEAN ESN\" Sprint EPIC 4G Galaxy SPH-D7...    Samsung  199.99   \n",
       "...                                                  ...        ...     ...   \n",
       "10331     Apple iPhone 4 A1332 16GB White (GSM Unlocked)    Samsung  188.45   \n",
       "10332     Apple iPhone 4 A1332 16GB White (GSM Unlocked)    Samsung  188.45   \n",
       "10333     Apple iPhone 4 A1332 32GB Black (GSM Unlocked)      Apple   75.00   \n",
       "10334     Apple iPhone 4 A1332 32GB Black (GSM Unlocked)      Apple   75.00   \n",
       "10335     Apple iPhone 4 A1332 32GB Black (GSM Unlocked)      Apple   75.00   \n",
       "\n",
       "       Rating                                            Reviews  \\\n",
       "0           5  I feel so LUCKY to have found this used (phone...   \n",
       "1           4  nice phone, nice up grade from my pantach revu...   \n",
       "2           5                                       Very pleased   \n",
       "3           4  It works good but it goes slow sometimes but i...   \n",
       "4           4  Great phone to replace my lost phone. The only...   \n",
       "...       ...                                                ...   \n",
       "10331       5                                       Good product   \n",
       "10332       5  The cellphone was incorrectly unlocked and i`v...   \n",
       "10333       5  It was what I was looking for in a Phone thank...   \n",
       "10334       5  Phone was in near perfect shape and it came wi...   \n",
       "10335       5  they arived in time in APO adress-Afghanistan ...   \n",
       "\n",
       "       Review Votes  KMeans_Clusters  \n",
       "0               1.0                1  \n",
       "1               0.0                1  \n",
       "2               0.0                1  \n",
       "3               0.0                1  \n",
       "4               0.0                1  \n",
       "...             ...              ...  \n",
       "10331           0.0                1  \n",
       "10332           0.0                1  \n",
       "10333           0.0                1  \n",
       "10334           0.0                1  \n",
       "10335           0.0                1  \n",
       "\n",
       "[10000 rows x 7 columns]"
      ]
     },
     "execution_count": 74,
     "metadata": {},
     "output_type": "execute_result"
    }
   ],
   "source": [
    "# Standardize the vectorized features\n",
    "scaler = StandardScaler()\n",
    "scaled_rev = scaler.fit_transform(rev_vector.toarray())\n",
    "k_means = KMeans(n_clusters=3, random_state=42)\n",
    "df2['KMeans_Clusters'] = k_means.fit_predict(scaled_rev)\n",
    "df2"
   ]
  },
  {
   "cell_type": "code",
   "execution_count": 75,
   "metadata": {},
   "outputs": [
    {
     "name": "stderr",
     "output_type": "stream",
     "text": [
      "<ipython-input-75-b2467f241db2>:3: SettingWithCopyWarning: \n",
      "A value is trying to be set on a copy of a slice from a DataFrame.\n",
      "Try using .loc[row_indexer,col_indexer] = value instead\n",
      "\n",
      "See the caveats in the documentation: https://pandas.pydata.org/pandas-docs/stable/user_guide/indexing.html#returning-a-view-versus-a-copy\n",
      "  df2['DBSCAN_Clusters'] = dbscan_clustering.fit_predict(scaled_rev)\n"
     ]
    }
   ],
   "source": [
    "# Applying the DBSCAN clustering\n",
    "dbscan_clustering = DBSCAN(eps=0.5, min_samples=5)\n",
    "df2['DBSCAN_Clusters'] = dbscan_clustering.fit_predict(scaled_rev)\n"
   ]
  },
  {
   "cell_type": "code",
   "execution_count": 76,
   "metadata": {},
   "outputs": [
    {
     "name": "stderr",
     "output_type": "stream",
     "text": [
      "<ipython-input-76-46aea21c5a18>:3: SettingWithCopyWarning: \n",
      "A value is trying to be set on a copy of a slice from a DataFrame.\n",
      "Try using .loc[row_indexer,col_indexer] = value instead\n",
      "\n",
      "See the caveats in the documentation: https://pandas.pydata.org/pandas-docs/stable/user_guide/indexing.html#returning-a-view-versus-a-copy\n",
      "  df2['Hierarchical_Clusters'] = hierarchical_clustering.fit_predict(scaled_rev)\n"
     ]
    }
   ],
   "source": [
    " #Apply Hierarchical clustering\n",
    "hierarchical_clustering= AgglomerativeClustering(n_clusters=3)\n",
    "df2['Hierarchical_Clusters'] = hierarchical_clustering.fit_predict(scaled_rev)\n"
   ]
  },
  {
   "cell_type": "code",
   "execution_count": 77,
   "metadata": {},
   "outputs": [
    {
     "data": {
      "text/html": [
       "<div>\n",
       "<style scoped>\n",
       "    .dataframe tbody tr th:only-of-type {\n",
       "        vertical-align: middle;\n",
       "    }\n",
       "\n",
       "    .dataframe tbody tr th {\n",
       "        vertical-align: top;\n",
       "    }\n",
       "\n",
       "    .dataframe thead th {\n",
       "        text-align: right;\n",
       "    }\n",
       "</style>\n",
       "<table border=\"1\" class=\"dataframe\">\n",
       "  <thead>\n",
       "    <tr style=\"text-align: right;\">\n",
       "      <th></th>\n",
       "      <th>Product Name</th>\n",
       "      <th>Brand Name</th>\n",
       "      <th>Price</th>\n",
       "      <th>Rating</th>\n",
       "      <th>Reviews</th>\n",
       "      <th>Review Votes</th>\n",
       "      <th>KMeans_Clusters</th>\n",
       "      <th>DBSCAN_Clusters</th>\n",
       "      <th>Hierarchical_Clusters</th>\n",
       "    </tr>\n",
       "  </thead>\n",
       "  <tbody>\n",
       "    <tr>\n",
       "      <th>0</th>\n",
       "      <td>\"CLEAR CLEAN ESN\" Sprint EPIC 4G Galaxy SPH-D7...</td>\n",
       "      <td>Samsung</td>\n",
       "      <td>199.99</td>\n",
       "      <td>5</td>\n",
       "      <td>I feel so LUCKY to have found this used (phone...</td>\n",
       "      <td>1.0</td>\n",
       "      <td>1</td>\n",
       "      <td>-1</td>\n",
       "      <td>0</td>\n",
       "    </tr>\n",
       "    <tr>\n",
       "      <th>1</th>\n",
       "      <td>\"CLEAR CLEAN ESN\" Sprint EPIC 4G Galaxy SPH-D7...</td>\n",
       "      <td>Samsung</td>\n",
       "      <td>199.99</td>\n",
       "      <td>4</td>\n",
       "      <td>nice phone, nice up grade from my pantach revu...</td>\n",
       "      <td>0.0</td>\n",
       "      <td>1</td>\n",
       "      <td>-1</td>\n",
       "      <td>0</td>\n",
       "    </tr>\n",
       "    <tr>\n",
       "      <th>2</th>\n",
       "      <td>\"CLEAR CLEAN ESN\" Sprint EPIC 4G Galaxy SPH-D7...</td>\n",
       "      <td>Samsung</td>\n",
       "      <td>199.99</td>\n",
       "      <td>5</td>\n",
       "      <td>Very pleased</td>\n",
       "      <td>0.0</td>\n",
       "      <td>1</td>\n",
       "      <td>-1</td>\n",
       "      <td>0</td>\n",
       "    </tr>\n",
       "    <tr>\n",
       "      <th>3</th>\n",
       "      <td>\"CLEAR CLEAN ESN\" Sprint EPIC 4G Galaxy SPH-D7...</td>\n",
       "      <td>Samsung</td>\n",
       "      <td>199.99</td>\n",
       "      <td>4</td>\n",
       "      <td>It works good but it goes slow sometimes but i...</td>\n",
       "      <td>0.0</td>\n",
       "      <td>1</td>\n",
       "      <td>-1</td>\n",
       "      <td>0</td>\n",
       "    </tr>\n",
       "    <tr>\n",
       "      <th>4</th>\n",
       "      <td>\"CLEAR CLEAN ESN\" Sprint EPIC 4G Galaxy SPH-D7...</td>\n",
       "      <td>Samsung</td>\n",
       "      <td>199.99</td>\n",
       "      <td>4</td>\n",
       "      <td>Great phone to replace my lost phone. The only...</td>\n",
       "      <td>0.0</td>\n",
       "      <td>1</td>\n",
       "      <td>-1</td>\n",
       "      <td>0</td>\n",
       "    </tr>\n",
       "  </tbody>\n",
       "</table>\n",
       "</div>"
      ],
      "text/plain": [
       "                                        Product Name Brand Name   Price  \\\n",
       "0  \"CLEAR CLEAN ESN\" Sprint EPIC 4G Galaxy SPH-D7...    Samsung  199.99   \n",
       "1  \"CLEAR CLEAN ESN\" Sprint EPIC 4G Galaxy SPH-D7...    Samsung  199.99   \n",
       "2  \"CLEAR CLEAN ESN\" Sprint EPIC 4G Galaxy SPH-D7...    Samsung  199.99   \n",
       "3  \"CLEAR CLEAN ESN\" Sprint EPIC 4G Galaxy SPH-D7...    Samsung  199.99   \n",
       "4  \"CLEAR CLEAN ESN\" Sprint EPIC 4G Galaxy SPH-D7...    Samsung  199.99   \n",
       "\n",
       "   Rating                                            Reviews  Review Votes  \\\n",
       "0       5  I feel so LUCKY to have found this used (phone...           1.0   \n",
       "1       4  nice phone, nice up grade from my pantach revu...           0.0   \n",
       "2       5                                       Very pleased           0.0   \n",
       "3       4  It works good but it goes slow sometimes but i...           0.0   \n",
       "4       4  Great phone to replace my lost phone. The only...           0.0   \n",
       "\n",
       "   KMeans_Clusters  DBSCAN_Clusters  Hierarchical_Clusters  \n",
       "0                1               -1                      0  \n",
       "1                1               -1                      0  \n",
       "2                1               -1                      0  \n",
       "3                1               -1                      0  \n",
       "4                1               -1                      0  "
      ]
     },
     "execution_count": 77,
     "metadata": {},
     "output_type": "execute_result"
    }
   ],
   "source": [
    "df2.head()"
   ]
  },
  {
   "cell_type": "code",
   "execution_count": 78,
   "metadata": {},
   "outputs": [
    {
     "data": {
      "text/html": [
       "<div>\n",
       "<style scoped>\n",
       "    .dataframe tbody tr th:only-of-type {\n",
       "        vertical-align: middle;\n",
       "    }\n",
       "\n",
       "    .dataframe tbody tr th {\n",
       "        vertical-align: top;\n",
       "    }\n",
       "\n",
       "    .dataframe thead th {\n",
       "        text-align: right;\n",
       "    }\n",
       "</style>\n",
       "<table border=\"1\" class=\"dataframe\">\n",
       "  <thead>\n",
       "    <tr style=\"text-align: right;\">\n",
       "      <th></th>\n",
       "      <th>KMeans_Clusters</th>\n",
       "      <th>DBSCAN_Clusters</th>\n",
       "      <th>Hierarchical_Clusters</th>\n",
       "    </tr>\n",
       "  </thead>\n",
       "  <tbody>\n",
       "    <tr>\n",
       "      <th>0</th>\n",
       "      <td>1</td>\n",
       "      <td>-1</td>\n",
       "      <td>0</td>\n",
       "    </tr>\n",
       "    <tr>\n",
       "      <th>1</th>\n",
       "      <td>1</td>\n",
       "      <td>-1</td>\n",
       "      <td>0</td>\n",
       "    </tr>\n",
       "    <tr>\n",
       "      <th>2</th>\n",
       "      <td>1</td>\n",
       "      <td>-1</td>\n",
       "      <td>0</td>\n",
       "    </tr>\n",
       "    <tr>\n",
       "      <th>3</th>\n",
       "      <td>1</td>\n",
       "      <td>-1</td>\n",
       "      <td>0</td>\n",
       "    </tr>\n",
       "    <tr>\n",
       "      <th>4</th>\n",
       "      <td>1</td>\n",
       "      <td>-1</td>\n",
       "      <td>0</td>\n",
       "    </tr>\n",
       "  </tbody>\n",
       "</table>\n",
       "</div>"
      ],
      "text/plain": [
       "   KMeans_Clusters  DBSCAN_Clusters  Hierarchical_Clusters\n",
       "0                1               -1                      0\n",
       "1                1               -1                      0\n",
       "2                1               -1                      0\n",
       "3                1               -1                      0\n",
       "4                1               -1                      0"
      ]
     },
     "execution_count": 78,
     "metadata": {},
     "output_type": "execute_result"
    }
   ],
   "source": [
    "df3=df2[['KMeans_Clusters','DBSCAN_Clusters','Hierarchical_Clusters']]\n",
    "df3.head()"
   ]
  },
  {
   "cell_type": "code",
   "execution_count": 79,
   "metadata": {},
   "outputs": [
    {
     "name": "stderr",
     "output_type": "stream",
     "text": [
      "C:\\Users\\somas\\anaconda3\\lib\\site-packages\\seaborn\\distributions.py:306: UserWarning: Dataset has 0 variance; skipping density estimate.\n",
      "  warnings.warn(msg, UserWarning)\n",
      "C:\\Users\\somas\\anaconda3\\lib\\site-packages\\seaborn\\distributions.py:306: UserWarning: Dataset has 0 variance; skipping density estimate.\n",
      "  warnings.warn(msg, UserWarning)\n",
      "C:\\Users\\somas\\anaconda3\\lib\\site-packages\\seaborn\\distributions.py:306: UserWarning: Dataset has 0 variance; skipping density estimate.\n",
      "  warnings.warn(msg, UserWarning)\n",
      "C:\\Users\\somas\\anaconda3\\lib\\site-packages\\seaborn\\distributions.py:306: UserWarning: Dataset has 0 variance; skipping density estimate.\n",
      "  warnings.warn(msg, UserWarning)\n"
     ]
    },
    {
     "data": {
      "image/png": "[encoded data removed]",
      "text/plain": [
       "<Figure size 452.75x360 with 6 Axes>"
      ]
     },
     "metadata": {
      "needs_background": "light"
     },
     "output_type": "display_data"
    }
   ],
   "source": [
    "# Visualize the clusters\n",
    "sns.pairplot(df3, hue='KMeans_Clusters', palette='viridis', diag_kind='kde')\n",
    "plt.title('K-Means Clustering')\n",
    "plt.tight_layout()\n",
    "plt.show()"
   ]
  },
  {
   "cell_type": "markdown",
   "metadata": {},
   "source": [
    "K-means\n",
    "DBSCAN clustering\n",
    "Hierarchical clustering results"
   ]
  },
  {
   "cell_type": "code",
   "execution_count": 80,
   "metadata": {},
   "outputs": [
    {
     "name": "stdout",
     "output_type": "stream",
     "text": [
      "Silhouette Score for the K-means Clustering: 0.2400903848559924\n",
      "\n",
      "\n",
      "Silhouette Score for the DBSCAN Clustering: -0.21973914381613632\n",
      "\n",
      "\n",
      "Silhouette Score for the Hierarchical Clustering: 0.5466364689795501\n",
      "\n",
      "\n"
     ]
    }
   ],
   "source": [
    "\n",
    "from sklearn.metrics import silhouette_score\n",
    "\n",
    "\n",
    "silhouette_kmeans_clustering = silhouette_score(scaled_rev, df3['KMeans_Clusters'])\n",
    "print(f\"Silhouette Score for the K-means Clustering: {silhouette_kmeans_clustering}\")\n",
    "print(\"\\n\")\n",
    "\n",
    "silhouette_dbscan_clustering = silhouette_score(scaled_rev, df3['DBSCAN_Clusters'])\n",
    "print(f\"Silhouette Score for the DBSCAN Clustering: {silhouette_dbscan_clustering}\")\n",
    "print(\"\\n\")\n",
    "\n",
    "silhouette_hierarchical_clustering = silhouette_score(scaled_rev, df3['Hierarchical_Clusters'])\n",
    "print(f\"Silhouette Score for the Hierarchical Clustering: {silhouette_hierarchical_clustering}\")\n",
    "print(\"\\n\")"
   ]
  },
  {
   "cell_type": "markdown",
   "metadata": {},
   "source": [
    "# word2vec clustering"
   ]
  },
  {
   "cell_type": "code",
   "execution_count": 81,
   "metadata": {},
   "outputs": [],
   "source": [
    "from gensim.models import Word2Vec\n",
    "from sklearn.cluster import KMeans\n",
    "from sklearn.decomposition import PCA\n",
    "import matplotlib.pyplot as plt"
   ]
  },
  {
   "cell_type": "code",
   "execution_count": 83,
   "metadata": {},
   "outputs": [
    {
     "data": {
      "text/plain": [
       "0        [I, feel, so, LUCKY, to, have, found, this, us...\n",
       "1        [nice, phone,, nice, up, grade, from, my, pant...\n",
       "2                                          [Very, pleased]\n",
       "3        [It, works, good, but, it, goes, slow, sometim...\n",
       "4        [Great, phone, to, replace, my, lost, phone., ...\n",
       "                               ...                        \n",
       "10331                                      [Good, product]\n",
       "10332    [The, cellphone, was, incorrectly, unlocked, a...\n",
       "10333    [It, was, what, I, was, looking, for, in, a, P...\n",
       "10334    [Phone, was, in, near, perfect, shape, and, it...\n",
       "10335    [they, arived, in, time, in, APO, adress-Afgha...\n",
       "Name: Reviews, Length: 10000, dtype: object"
      ]
     },
     "execution_count": 83,
     "metadata": {},
     "output_type": "execute_result"
    }
   ],
   "source": [
    "# Tokenize the cleaned reviews into words\n",
    "tokenized_rev = df2['Reviews'].apply(lambda x: x.split())\n",
    "tokenized_rev"
   ]
  },
  {
   "cell_type": "code",
   "execution_count": 84,
   "metadata": {},
   "outputs": [],
   "source": [
    "# Training the Word2Vec model\n",
    "word2vec_model = Word2Vec(sentences=tokenized_rev, vector_size=100, window=5, min_count=1, workers=4)\n",
    "# Get word vectors\n",
    "word_vectors = word2vec_model.wv"
   ]
  },
  {
   "cell_type": "code",
   "execution_count": 85,
   "metadata": {},
   "outputs": [
    {
     "name": "stderr",
     "output_type": "stream",
     "text": [
      "C:\\Users\\somas\\anaconda3\\lib\\site-packages\\sklearn\\cluster\\_kmeans.py:870: FutureWarning: The default value of `n_init` will change from 10 to 'auto' in 1.4. Set the value of `n_init` explicitly to suppress the warning\n",
      "  warnings.warn(\n"
     ]
    }
   ],
   "source": [
    "# Clustering the word vectors using KMeans clustering\n",
    "kmeans = KMeans(n_clusters=5, random_state=42)\n",
    "clusters = kmeans.fit_predict(word_vectors.vectors)\n"
   ]
  },
  {
   "cell_type": "code",
   "execution_count": 86,
   "metadata": {},
   "outputs": [],
   "source": [
    "# Dimensionality reduction for the purpose of visualisation\n",
    "pca = PCA(n_components=2)\n",
    "pca_result = pca.fit_transform(word_vectors.vectors)"
   ]
  },
  {
   "cell_type": "code",
   "execution_count": 87,
   "metadata": {},
   "outputs": [
    {
     "data": {
      "image/png": "[encoded data removed]",
      "text/plain": [
       "<Figure size 432x288 with 1 Axes>"
      ]
     },
     "metadata": {
      "needs_background": "light"
     },
     "output_type": "display_data"
    }
   ],
   "source": [
    "# Visualizing the  clusters\n",
    "plt.scatter(pca_result[:, 0], pca_result[:, 1], c=clusters, cmap='viridis')\n",
    "plt.title('Word2Vec Clustering')\n",
    "plt.show()\n"
   ]
  },
  {
   "cell_type": "code",
   "execution_count": 88,
   "metadata": {},
   "outputs": [
    {
     "name": "stdout",
     "output_type": "stream",
     "text": [
      "Silhouette Score for the Word2Vec model : 0.7203503847122192\n"
     ]
    }
   ],
   "source": [
    "# Evaluating the  Silhouette Score for the Word2Vec model\n",
    "from sklearn.metrics import silhouette_score\n",
    "silhouette_average = silhouette_score(word_vectors.vectors, clusters)\n",
    "print(f\"Silhouette Score for the Word2Vec model : {silhouette_average}\")"
   ]
  },
  {
   "cell_type": "markdown",
   "metadata": {},
   "source": [
    "# Bert clustering"
   ]
  },
  {
   "cell_type": "code",
   "execution_count": 89,
   "metadata": {},
   "outputs": [],
   "source": [
    "from transformers import BertTokenizer, BertModel\n",
    "import torch"
   ]
  },
  {
   "cell_type": "code",
   "execution_count": 92,
   "metadata": {},
   "outputs": [
    {
     "name": "stdout",
     "output_type": "stream",
     "text": [
      "Requirement already satisfied: torch in c:\\users\\somas\\anaconda3\\lib\\site-packages (1.8.0)\n",
      "Collecting torch\n",
      "  Downloading torch-2.1.1-cp38-cp38-win_amd64.whl (192.3 MB)\n",
      "Requirement already satisfied: networkx in c:\\users\\somas\\anaconda3\\lib\\site-packages (from torch) (2.5)\n",
      "Requirement already satisfied: fsspec in c:\\users\\somas\\anaconda3\\lib\\site-packages (from torch) (2023.10.0)\n",
      "Requirement already satisfied: filelock in c:\\users\\somas\\anaconda3\\lib\\site-packages (from torch) (3.10.2)\n",
      "Note: you may need to restart the kernel to use updated packages.\n"
     ]
    },
    {
     "name": "stderr",
     "output_type": "stream",
     "text": [
      "ERROR: Could not install packages due to an OSError: [WinError 5] Access is denied: 'C:\\\\Users\\\\somas\\\\anaconda3\\\\Lib\\\\site-packages\\\\~.rch\\\\lib\\\\asmjit.dll'\n",
      "Consider using the `--user` option or check the permissions.\n"
     ]
    },
    {
     "name": "stdout",
     "output_type": "stream",
     "text": [
      "Requirement already satisfied: jinja2 in c:\\users\\somas\\anaconda3\\lib\\site-packages (from torch) (3.0.0)\n",
      "Requirement already satisfied: typing-extensions in c:\\users\\somas\\anaconda3\\lib\\site-packages (from torch) (4.5.0)\n",
      "Requirement already satisfied: sympy in c:\\users\\somas\\anaconda3\\lib\\site-packages (from torch) (1.8)\n",
      "Requirement already satisfied: MarkupSafe>=2.0.0rc2 in c:\\users\\somas\\anaconda3\\lib\\site-packages (from jinja2->torch) (2.1.2)\n",
      "Requirement already satisfied: decorator>=4.3.0 in c:\\users\\somas\\anaconda3\\lib\\site-packages (from networkx->torch) (5.0.6)\n",
      "Requirement already satisfied: mpmath>=0.19 in c:\\users\\somas\\anaconda3\\lib\\site-packages (from sympy->torch) (1.2.1)\n",
      "Installing collected packages: torch\n",
      "  Attempting uninstall: torch\n",
      "    Found existing installation: torch 1.8.0\n",
      "    Uninstalling torch-1.8.0:\n",
      "      Successfully uninstalled torch-1.8.0\n"
     ]
    },
    {
     "name": "stderr",
     "output_type": "stream",
     "text": [
      "\n"
     ]
    }
   ],
   "source": [
    "pip install --upgrade torch"
   ]
  },
  {
   "cell_type": "code",
   "execution_count": 94,
   "metadata": {},
   "outputs": [
    {
     "name": "stdout",
     "output_type": "stream",
     "text": [
      "Requirement already satisfied: torch in c:\\users\\somas\\anaconda3\\lib\\site-packages (2.1.1)Note: you may need to restart the kernel to use updated packages.\n",
      "\n",
      "Requirement already satisfied: jinja2 in c:\\users\\somas\\anaconda3\\lib\\site-packages (from torch) (3.0.0)\n",
      "Requirement already satisfied: sympy in c:\\users\\somas\\anaconda3\\lib\\site-packages (from torch) (1.8)\n",
      "Requirement already satisfied: networkx in c:\\users\\somas\\anaconda3\\lib\\site-packages (from torch) (2.5)\n",
      "Requirement already satisfied: fsspec in c:\\users\\somas\\anaconda3\\lib\\site-packages (from torch) (2023.10.0)\n",
      "Requirement already satisfied: filelock in c:\\users\\somas\\anaconda3\\lib\\site-packages (from torch) (3.10.2)\n",
      "Requirement already satisfied: typing-extensions in c:\\users\\somas\\anaconda3\\lib\\site-packages (from torch) (4.5.0)\n",
      "Requirement already satisfied: MarkupSafe>=2.0.0rc2 in c:\\users\\somas\\anaconda3\\lib\\site-packages (from jinja2->torch) (2.1.2)\n",
      "Requirement already satisfied: decorator>=4.3.0 in c:\\users\\somas\\anaconda3\\lib\\site-packages (from networkx->torch) (5.0.6)\n",
      "Requirement already satisfied: mpmath>=0.19 in c:\\users\\somas\\anaconda3\\lib\\site-packages (from sympy->torch) (1.2.1)\n"
     ]
    }
   ],
   "source": [
    "pip install --upgrade torch"
   ]
  },
  {
   "cell_type": "code",
   "execution_count": 93,
   "metadata": {},
   "outputs": [
    {
     "ename": "AttributeError",
     "evalue": "module 'torch' has no attribute 'frombuffer'",
     "output_type": "error",
     "traceback": [
      "\u001b[1;31m---------------------------------------------------------------------------\u001b[0m",
      "\u001b[1;31mAttributeError\u001b[0m                            Traceback (most recent call last)",
      "\u001b[1;32m<ipython-input-93-e7d4f8a27685>\u001b[0m in \u001b[0;36m<module>\u001b[1;34m\u001b[0m\n\u001b[0;32m      4\u001b[0m \u001b[1;31m# Load BERT tokenizer and model\u001b[0m\u001b[1;33m\u001b[0m\u001b[1;33m\u001b[0m\u001b[1;33m\u001b[0m\u001b[0m\n\u001b[0;32m      5\u001b[0m \u001b[0mtokenizer\u001b[0m \u001b[1;33m=\u001b[0m \u001b[0mBertTokenizer\u001b[0m\u001b[1;33m.\u001b[0m\u001b[0mfrom_pretrained\u001b[0m\u001b[1;33m(\u001b[0m\u001b[1;34m'bert-base-uncased'\u001b[0m\u001b[1;33m)\u001b[0m\u001b[1;33m\u001b[0m\u001b[1;33m\u001b[0m\u001b[0m\n\u001b[1;32m----> 6\u001b[1;33m \u001b[0mmodel\u001b[0m \u001b[1;33m=\u001b[0m \u001b[0mBertModel\u001b[0m\u001b[1;33m.\u001b[0m\u001b[0mfrom_pretrained\u001b[0m\u001b[1;33m(\u001b[0m\u001b[1;34m'bert-base-uncased'\u001b[0m\u001b[1;33m)\u001b[0m\u001b[1;33m\u001b[0m\u001b[1;33m\u001b[0m\u001b[0m\n\u001b[0m\u001b[0;32m      7\u001b[0m \u001b[1;33m\u001b[0m\u001b[0m\n\u001b[0;32m      8\u001b[0m \u001b[1;31m# Tokenization and Embedding\u001b[0m\u001b[1;33m\u001b[0m\u001b[1;33m\u001b[0m\u001b[1;33m\u001b[0m\u001b[0m\n",
      "\u001b[1;32m~\\anaconda3\\lib\\site-packages\\transformers\\modeling_utils.py\u001b[0m in \u001b[0;36mfrom_pretrained\u001b[1;34m(cls, pretrained_model_name_or_path, config, cache_dir, ignore_mismatched_sizes, force_download, local_files_only, token, revision, use_safetensors, *model_args, **kwargs)\u001b[0m\n\u001b[0;32m   3168\u001b[0m             \u001b[1;32mif\u001b[0m \u001b[1;32mnot\u001b[0m \u001b[0mis_sharded\u001b[0m \u001b[1;32mand\u001b[0m \u001b[0mstate_dict\u001b[0m \u001b[1;32mis\u001b[0m \u001b[1;32mNone\u001b[0m\u001b[1;33m:\u001b[0m\u001b[1;33m\u001b[0m\u001b[1;33m\u001b[0m\u001b[0m\n\u001b[0;32m   3169\u001b[0m                 \u001b[1;31m# Time to load the checkpoint\u001b[0m\u001b[1;33m\u001b[0m\u001b[1;33m\u001b[0m\u001b[1;33m\u001b[0m\u001b[0m\n\u001b[1;32m-> 3170\u001b[1;33m                 \u001b[0mstate_dict\u001b[0m \u001b[1;33m=\u001b[0m \u001b[0mload_state_dict\u001b[0m\u001b[1;33m(\u001b[0m\u001b[0mresolved_archive_file\u001b[0m\u001b[1;33m)\u001b[0m\u001b[1;33m\u001b[0m\u001b[1;33m\u001b[0m\u001b[0m\n\u001b[0m\u001b[0;32m   3171\u001b[0m \u001b[1;33m\u001b[0m\u001b[0m\n\u001b[0;32m   3172\u001b[0m             \u001b[1;31m# set dtype to instantiate the model under:\u001b[0m\u001b[1;33m\u001b[0m\u001b[1;33m\u001b[0m\u001b[1;33m\u001b[0m\u001b[0m\n",
      "\u001b[1;32m~\\anaconda3\\lib\\site-packages\\transformers\\modeling_utils.py\u001b[0m in \u001b[0;36mload_state_dict\u001b[1;34m(checkpoint_file)\u001b[0m\n\u001b[0;32m    472\u001b[0m                 \u001b[1;34m\"you save your model with the `save_pretrained` method.\"\u001b[0m\u001b[1;33m\u001b[0m\u001b[1;33m\u001b[0m\u001b[0m\n\u001b[0;32m    473\u001b[0m             )\n\u001b[1;32m--> 474\u001b[1;33m         \u001b[1;32mreturn\u001b[0m \u001b[0msafe_load_file\u001b[0m\u001b[1;33m(\u001b[0m\u001b[0mcheckpoint_file\u001b[0m\u001b[1;33m)\u001b[0m\u001b[1;33m\u001b[0m\u001b[1;33m\u001b[0m\u001b[0m\n\u001b[0m\u001b[0;32m    475\u001b[0m     \u001b[1;32mtry\u001b[0m\u001b[1;33m:\u001b[0m\u001b[1;33m\u001b[0m\u001b[1;33m\u001b[0m\u001b[0m\n\u001b[0;32m    476\u001b[0m         if (\n",
      "\u001b[1;32m~\\anaconda3\\lib\\site-packages\\safetensors\\torch.py\u001b[0m in \u001b[0;36mload_file\u001b[1;34m(filename, device)\u001b[0m\n\u001b[0;32m    308\u001b[0m     \u001b[1;32mwith\u001b[0m \u001b[0msafe_open\u001b[0m\u001b[1;33m(\u001b[0m\u001b[0mfilename\u001b[0m\u001b[1;33m,\u001b[0m \u001b[0mframework\u001b[0m\u001b[1;33m=\u001b[0m\u001b[1;34m\"pt\"\u001b[0m\u001b[1;33m,\u001b[0m \u001b[0mdevice\u001b[0m\u001b[1;33m=\u001b[0m\u001b[0mdevice\u001b[0m\u001b[1;33m)\u001b[0m \u001b[1;32mas\u001b[0m \u001b[0mf\u001b[0m\u001b[1;33m:\u001b[0m\u001b[1;33m\u001b[0m\u001b[1;33m\u001b[0m\u001b[0m\n\u001b[0;32m    309\u001b[0m         \u001b[1;32mfor\u001b[0m \u001b[0mk\u001b[0m \u001b[1;32min\u001b[0m \u001b[0mf\u001b[0m\u001b[1;33m.\u001b[0m\u001b[0mkeys\u001b[0m\u001b[1;33m(\u001b[0m\u001b[1;33m)\u001b[0m\u001b[1;33m:\u001b[0m\u001b[1;33m\u001b[0m\u001b[1;33m\u001b[0m\u001b[0m\n\u001b[1;32m--> 310\u001b[1;33m             \u001b[0mresult\u001b[0m\u001b[1;33m[\u001b[0m\u001b[0mk\u001b[0m\u001b[1;33m]\u001b[0m \u001b[1;33m=\u001b[0m \u001b[0mf\u001b[0m\u001b[1;33m.\u001b[0m\u001b[0mget_tensor\u001b[0m\u001b[1;33m(\u001b[0m\u001b[0mk\u001b[0m\u001b[1;33m)\u001b[0m\u001b[1;33m\u001b[0m\u001b[1;33m\u001b[0m\u001b[0m\n\u001b[0m\u001b[0;32m    311\u001b[0m     \u001b[1;32mreturn\u001b[0m \u001b[0mresult\u001b[0m\u001b[1;33m\u001b[0m\u001b[1;33m\u001b[0m\u001b[0m\n\u001b[0;32m    312\u001b[0m \u001b[1;33m\u001b[0m\u001b[0m\n",
      "\u001b[1;31mAttributeError\u001b[0m: module 'torch' has no attribute 'frombuffer'"
     ]
    }
   ],
   "source": [
    "from sklearn.cluster import KMeans\n",
    "from sklearn.decomposition import PCA\n",
    "\n",
    "# Load BERT tokenizer and model\n",
    "tokenizer = BertTokenizer.from_pretrained('bert-base-uncased')\n",
    "model = BertModel.from_pretrained('bert-base-uncased')\n",
    "\n",
    "# Tokenization and Embedding\n",
    "tok_rev_bert = df2['Cleaned_Reviews'].apply(lambda x: tokenizer(x, return_tensors='pt', truncation=True, padding=True))\n",
    "bert_embed = tok_rev_bert.apply(lambda x: model(**x).last_hidden_state.mean(dim=1).detach().numpy())\n",
    "\n",
    "# Convert BERT embeddings to a matrix\n",
    "bert_mat = np.array(bert_embed.tolist())\n",
    "\n",
    "# Reshape the matrix if necessary\n",
    "num_seq, seq_len, embedding_size = bert_mat.shape\n",
    "reshape_bert_mat = bert_mat.reshape(num_seq, seq_len, embedding_size)\n",
    "\n",
    "# Reshape the matrix by flattening the sequence dimension\n",
    "flatten_bert_mat = bert_mat.reshape(-1, embedding_size)\n",
    "\n",
    "# PCA for BERT embeddings\n",
    "pca_bert = PCA(n_components=2)\n",
    "pca_result_bert = pca_bert.fit_transform(flatten_bert_mat)\n",
    "\n",
    "# KMeans clustering for BERT PCA embeddings\n",
    "kmeans_bert = KMeans(n_clusters=5, random_state=42)\n",
    "clusters_bert = kmeans_bert.fit_predict(pca_result_bert)\n",
    "\n",
    "# Visualize BERT clusters\n",
    "plt.scatter(pca_result_bert[:, 0], pca_result_bert[:, 1], c=clusters_bert, cmap='viridis')\n",
    "plt.title('BERT Clustering')\n",
    "plt.show()"
   ]
  },
  {
   "cell_type": "code",
   "execution_count": 91,
   "metadata": {},
   "outputs": [
    {
     "ename": "NameError",
     "evalue": "name 'flatten_bert_mat' is not defined",
     "output_type": "error",
     "traceback": [
      "\u001b[1;31m---------------------------------------------------------------------------\u001b[0m",
      "\u001b[1;31mNameError\u001b[0m                                 Traceback (most recent call last)",
      "\u001b[1;32m<ipython-input-91-a2b4ad9fc93d>\u001b[0m in \u001b[0;36m<module>\u001b[1;34m\u001b[0m\n\u001b[0;32m      1\u001b[0m \u001b[1;31m# Evaluating the  Silhouette Score for the BERT Clustering model\u001b[0m\u001b[1;33m\u001b[0m\u001b[1;33m\u001b[0m\u001b[1;33m\u001b[0m\u001b[0m\n\u001b[1;32m----> 2\u001b[1;33m \u001b[0msilhouette_avg_bert\u001b[0m \u001b[1;33m=\u001b[0m \u001b[0msilhouette_score\u001b[0m\u001b[1;33m(\u001b[0m\u001b[0mflatten_bert_mat\u001b[0m\u001b[1;33m,\u001b[0m \u001b[0mclusters_bert\u001b[0m\u001b[1;33m)\u001b[0m\u001b[1;33m\u001b[0m\u001b[1;33m\u001b[0m\u001b[0m\n\u001b[0m\u001b[0;32m      3\u001b[0m \u001b[1;33m\u001b[0m\u001b[0m\n\u001b[0;32m      4\u001b[0m \u001b[0mprint\u001b[0m\u001b[1;33m(\u001b[0m\u001b[1;34mf\"Silhouette Score for the BERT Clustering model: {silhouette_avg_bert:.3f}\"\u001b[0m\u001b[1;33m)\u001b[0m\u001b[1;33m\u001b[0m\u001b[1;33m\u001b[0m\u001b[0m\n",
      "\u001b[1;31mNameError\u001b[0m: name 'flatten_bert_mat' is not defined"
     ]
    }
   ],
   "source": [
    "# Evaluating the  Silhouette Score for the BERT Clustering model\n",
    "silhouette_avg_bert = silhouette_score(flatten_bert_mat, clusters_bert)\n",
    "\n",
    "print(f\"Silhouette Score for the BERT Clustering model: {silhouette_avg_bert:.3f}\")"
   ]
  },
  {
   "cell_type": "code",
   "execution_count": null,
   "metadata": {},
   "outputs": [],
   "source": []
  }
 ],
 "metadata": {
  "colab": {
   "provenance": []
  },
  "kernelspec": {
   "display_name": "Python 3",
   "language": "python",
   "name": "python3"
  },
  "language_info": {
   "codemirror_mode": {
    "name": "ipython",
    "version": 3
   },
   "file_extension": ".py",
   "mimetype": "text/x-python",
   "name": "python",
   "nbconvert_exporter": "python",
   "pygments_lexer": "ipython3",
   "version": "3.8.8"
  }
 },
 "nbformat": 4,
 "nbformat_minor": 1
}
